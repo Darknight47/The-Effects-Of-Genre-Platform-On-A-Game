{
 "cells": [
  {
   "cell_type": "markdown",
   "metadata": {},
   "source": [
    "# Data Understanding"
   ]
  },
  {
   "cell_type": "markdown",
   "metadata": {},
   "source": [
    "**1.0. What is the domain area of the dataset?**  \n",
    "The dataset can be applied in the game industry to generate insights such as *the effects of genre and platform on a game's success*!  \n",
    "\n",
    "**1.1. Under which circumstances was it collected?**  \n",
    "The meta data does not provide an explicit answer to this question. The dataset might be collected through sales figures, user ratings, or data from Steam!  \n",
    "One way to answer this question is to contact the author or the publisher! (Andy Bramwell) [(https://data.world/bramwax)]  \n",
    "\n",
    "**1.2. For which kind of task or purpose was the dataset collected?**  \n",
    "The dataset contains sales data for video games! It includes data across different platforms, genres, and regions!  \n",
    "The dataset was collected to provide insight into what makes a game successfull in today's gaming industry! \n",
    "***"
   ]
  },
  {
   "cell_type": "markdown",
   "metadata": {},
   "source": [
    "**2.0. How many files does the dataset have?**  \n",
    "The dataset folder contains one file!  \n",
    "\n",
    "**2.1. Which data format?**  \n",
    "The format of the dataset is *.csv*!  \n",
    "\n",
    "**2.2. Do the files have headers or another file describing the data?**  \n",
    "The files does have headers that describes the data! Each column has a name that describes the data it contains!  \n",
    "There is also a table on the Kaggle website that provides further descriptions of the columns in the dataset!  \n",
    "\n",
    "**2.3. Are the data values separated by commas, semicolon, or tabs?**  \n",
    "The data values are separated by commas!  \n",
    "Example: *0,1,Wii Sports,Wii,2006.0,Sports,Nintendo,40.43,28.39,3.77,8.54,81.12,76.28*!  \n",
    "\n",
    "**2.4. Do you need to load and analyze all the files or just some of them contain valuable data?**  \n",
    "This dataset contains only one file, So all the files or data is needed for analyzing and gaining insights!  \n",
    "***"
   ]
  },
  {
   "cell_type": "markdown",
   "metadata": {},
   "source": [
    "**3.0 How many features and how many observations does the dataset have?**  \n",
    "The dataset has:  \n",
    "* 13 features or columns!\n",
    "* 1907 observations or rows!  \n",
    "***"
   ]
  },
  {
   "cell_type": "markdown",
   "metadata": {},
   "source": [
    "**4.0 Does it contain numerical features? How many? What are the feature names?**  \n",
    "* Yes, It contains 8 numerical features!  \n",
    "* Numerical Features names: Rank, Year, North America, Europe, Japan, Rest of World, Global and Review!  \n",
    "***"
   ]
  },
  {
   "cell_type": "markdown",
   "metadata": {},
   "source": [
    "**5.0. Does it contain categorical features?  How many? What are the feature names? Are they ordinal or nominal?**  \n",
    "* Yes, the dataset contains 3 categorical features!\n",
    "* Feature *Platform* is a nominal categorical variable! For example games can be categorized based on Xbox, PS, Wii and so on!  \n",
    "* Feature *Genre* is also a nominal categorical variable! For example games can be categorized based on if there are ACTIONS, FIRST PERSON, STRATEGIC and so on!\n",
    "* Feature *Publisher* is also a nominal categorical variable! For example games can be categorized based on if they have NINTENDO, EA, ROCKSTAR and so as their publisher!\n",
    "***"
   ]
  },
  {
   "cell_type": "markdown",
   "metadata": {},
   "source": [
    "**6.0. Does it contain binary features? How many?**  \n",
    "The dataset does not contain *binary features*!  \n",
    "\n",
    "**6.1. If it does not contain, which relevant binary feature could you create based on the existing variables?**  \n",
    "For instance we can set a condition on the numerical feature *Year* to make it a binary feature!  \n",
    "Like *Year < 2000* and *Year >= 2000*!  \n",
    "The variable then can have the value of *zero* for years before 2000 and the value of *one* for years after or equals to 2000!  \n",
    "***"
   ]
  },
  {
   "cell_type": "markdown",
   "metadata": {},
   "source": [
    "# Exploratory Data Analysis (EDA)"
   ]
  },
  {
   "cell_type": "code",
   "execution_count": 2,
   "metadata": {},
   "outputs": [],
   "source": [
    "# Importing necessary packages!\n",
    "import pandas as pd\n",
    "# Import visualization libraries\n",
    "import matplotlib.pyplot as plt\n",
    "import seaborn as sns"
   ]
  },
  {
   "cell_type": "code",
   "execution_count": 3,
   "metadata": {},
   "outputs": [],
   "source": [
    "# Importing or reading the dataset!\n",
    "games_dataset = pd.read_csv(\"Dataset/Video_Games_Sales.csv\")"
   ]
  },
  {
   "cell_type": "code",
   "execution_count": 4,
   "metadata": {},
   "outputs": [
    {
     "data": {
      "text/html": [
       "<div>\n",
       "<style scoped>\n",
       "    .dataframe tbody tr th:only-of-type {\n",
       "        vertical-align: middle;\n",
       "    }\n",
       "\n",
       "    .dataframe tbody tr th {\n",
       "        vertical-align: top;\n",
       "    }\n",
       "\n",
       "    .dataframe thead th {\n",
       "        text-align: right;\n",
       "    }\n",
       "</style>\n",
       "<table border=\"1\" class=\"dataframe\">\n",
       "  <thead>\n",
       "    <tr style=\"text-align: right;\">\n",
       "      <th></th>\n",
       "      <th>index</th>\n",
       "      <th>Rank</th>\n",
       "      <th>Game Title</th>\n",
       "      <th>Platform</th>\n",
       "      <th>Year</th>\n",
       "      <th>Genre</th>\n",
       "      <th>Publisher</th>\n",
       "      <th>North America</th>\n",
       "      <th>Europe</th>\n",
       "      <th>Japan</th>\n",
       "      <th>Rest of World</th>\n",
       "      <th>Global</th>\n",
       "      <th>Review</th>\n",
       "    </tr>\n",
       "  </thead>\n",
       "  <tbody>\n",
       "    <tr>\n",
       "      <th>0</th>\n",
       "      <td>0</td>\n",
       "      <td>1</td>\n",
       "      <td>Wii Sports</td>\n",
       "      <td>Wii</td>\n",
       "      <td>2006.0</td>\n",
       "      <td>Sports</td>\n",
       "      <td>Nintendo</td>\n",
       "      <td>40.43</td>\n",
       "      <td>28.39</td>\n",
       "      <td>3.77</td>\n",
       "      <td>8.54</td>\n",
       "      <td>81.12</td>\n",
       "      <td>76.28</td>\n",
       "    </tr>\n",
       "    <tr>\n",
       "      <th>1</th>\n",
       "      <td>1</td>\n",
       "      <td>2</td>\n",
       "      <td>Super Mario Bros.</td>\n",
       "      <td>NES</td>\n",
       "      <td>1985.0</td>\n",
       "      <td>Platform</td>\n",
       "      <td>Nintendo</td>\n",
       "      <td>29.08</td>\n",
       "      <td>3.58</td>\n",
       "      <td>6.81</td>\n",
       "      <td>0.77</td>\n",
       "      <td>40.24</td>\n",
       "      <td>91.00</td>\n",
       "    </tr>\n",
       "    <tr>\n",
       "      <th>2</th>\n",
       "      <td>2</td>\n",
       "      <td>3</td>\n",
       "      <td>Mario Kart Wii</td>\n",
       "      <td>Wii</td>\n",
       "      <td>2008.0</td>\n",
       "      <td>Racing</td>\n",
       "      <td>Nintendo</td>\n",
       "      <td>14.50</td>\n",
       "      <td>12.22</td>\n",
       "      <td>3.63</td>\n",
       "      <td>3.21</td>\n",
       "      <td>33.55</td>\n",
       "      <td>82.07</td>\n",
       "    </tr>\n",
       "    <tr>\n",
       "      <th>3</th>\n",
       "      <td>3</td>\n",
       "      <td>4</td>\n",
       "      <td>Wii Sports Resort</td>\n",
       "      <td>Wii</td>\n",
       "      <td>2009.0</td>\n",
       "      <td>Sports</td>\n",
       "      <td>Nintendo</td>\n",
       "      <td>14.82</td>\n",
       "      <td>10.51</td>\n",
       "      <td>3.18</td>\n",
       "      <td>3.01</td>\n",
       "      <td>31.52</td>\n",
       "      <td>82.65</td>\n",
       "    </tr>\n",
       "    <tr>\n",
       "      <th>4</th>\n",
       "      <td>4</td>\n",
       "      <td>5</td>\n",
       "      <td>Tetris</td>\n",
       "      <td>GB</td>\n",
       "      <td>1989.0</td>\n",
       "      <td>Puzzle</td>\n",
       "      <td>Nintendo</td>\n",
       "      <td>23.20</td>\n",
       "      <td>2.26</td>\n",
       "      <td>4.22</td>\n",
       "      <td>0.58</td>\n",
       "      <td>30.26</td>\n",
       "      <td>88.00</td>\n",
       "    </tr>\n",
       "  </tbody>\n",
       "</table>\n",
       "</div>"
      ],
      "text/plain": [
       "   index  Rank         Game Title Platform    Year     Genre Publisher  \\\n",
       "0      0     1         Wii Sports      Wii  2006.0    Sports  Nintendo   \n",
       "1      1     2  Super Mario Bros.      NES  1985.0  Platform  Nintendo   \n",
       "2      2     3     Mario Kart Wii      Wii  2008.0    Racing  Nintendo   \n",
       "3      3     4  Wii Sports Resort      Wii  2009.0    Sports  Nintendo   \n",
       "4      4     5             Tetris       GB  1989.0    Puzzle  Nintendo   \n",
       "\n",
       "   North America  Europe  Japan  Rest of World  Global  Review  \n",
       "0          40.43   28.39   3.77           8.54   81.12   76.28  \n",
       "1          29.08    3.58   6.81           0.77   40.24   91.00  \n",
       "2          14.50   12.22   3.63           3.21   33.55   82.07  \n",
       "3          14.82   10.51   3.18           3.01   31.52   82.65  \n",
       "4          23.20    2.26   4.22           0.58   30.26   88.00  "
      ]
     },
     "execution_count": 4,
     "metadata": {},
     "output_type": "execute_result"
    }
   ],
   "source": [
    "# Printing out first five observations of the dataset, to which types of data or features we have in the dataset!\n",
    "games_dataset.head()"
   ]
  },
  {
   "cell_type": "markdown",
   "metadata": {},
   "source": [
    "* There are three column names that have more than 3 words and they are space separated!\n",
    "* To make the dataset consistent in terms of column names, I'm removing the space between those words!"
   ]
  },
  {
   "cell_type": "code",
   "execution_count": 6,
   "metadata": {},
   "outputs": [
    {
     "data": {
      "text/html": [
       "<div>\n",
       "<style scoped>\n",
       "    .dataframe tbody tr th:only-of-type {\n",
       "        vertical-align: middle;\n",
       "    }\n",
       "\n",
       "    .dataframe tbody tr th {\n",
       "        vertical-align: top;\n",
       "    }\n",
       "\n",
       "    .dataframe thead th {\n",
       "        text-align: right;\n",
       "    }\n",
       "</style>\n",
       "<table border=\"1\" class=\"dataframe\">\n",
       "  <thead>\n",
       "    <tr style=\"text-align: right;\">\n",
       "      <th></th>\n",
       "      <th>index</th>\n",
       "      <th>Rank</th>\n",
       "      <th>GameTitle</th>\n",
       "      <th>Platform</th>\n",
       "      <th>Year</th>\n",
       "      <th>Genre</th>\n",
       "      <th>Publisher</th>\n",
       "      <th>NorthAmerica</th>\n",
       "      <th>Europe</th>\n",
       "      <th>Japan</th>\n",
       "      <th>RestofWorld</th>\n",
       "      <th>Global</th>\n",
       "      <th>Review</th>\n",
       "    </tr>\n",
       "  </thead>\n",
       "  <tbody>\n",
       "    <tr>\n",
       "      <th>0</th>\n",
       "      <td>0</td>\n",
       "      <td>1</td>\n",
       "      <td>Wii Sports</td>\n",
       "      <td>Wii</td>\n",
       "      <td>2006.0</td>\n",
       "      <td>Sports</td>\n",
       "      <td>Nintendo</td>\n",
       "      <td>40.43</td>\n",
       "      <td>28.39</td>\n",
       "      <td>3.77</td>\n",
       "      <td>8.54</td>\n",
       "      <td>81.12</td>\n",
       "      <td>76.28</td>\n",
       "    </tr>\n",
       "    <tr>\n",
       "      <th>1</th>\n",
       "      <td>1</td>\n",
       "      <td>2</td>\n",
       "      <td>Super Mario Bros.</td>\n",
       "      <td>NES</td>\n",
       "      <td>1985.0</td>\n",
       "      <td>Platform</td>\n",
       "      <td>Nintendo</td>\n",
       "      <td>29.08</td>\n",
       "      <td>3.58</td>\n",
       "      <td>6.81</td>\n",
       "      <td>0.77</td>\n",
       "      <td>40.24</td>\n",
       "      <td>91.00</td>\n",
       "    </tr>\n",
       "    <tr>\n",
       "      <th>2</th>\n",
       "      <td>2</td>\n",
       "      <td>3</td>\n",
       "      <td>Mario Kart Wii</td>\n",
       "      <td>Wii</td>\n",
       "      <td>2008.0</td>\n",
       "      <td>Racing</td>\n",
       "      <td>Nintendo</td>\n",
       "      <td>14.50</td>\n",
       "      <td>12.22</td>\n",
       "      <td>3.63</td>\n",
       "      <td>3.21</td>\n",
       "      <td>33.55</td>\n",
       "      <td>82.07</td>\n",
       "    </tr>\n",
       "    <tr>\n",
       "      <th>3</th>\n",
       "      <td>3</td>\n",
       "      <td>4</td>\n",
       "      <td>Wii Sports Resort</td>\n",
       "      <td>Wii</td>\n",
       "      <td>2009.0</td>\n",
       "      <td>Sports</td>\n",
       "      <td>Nintendo</td>\n",
       "      <td>14.82</td>\n",
       "      <td>10.51</td>\n",
       "      <td>3.18</td>\n",
       "      <td>3.01</td>\n",
       "      <td>31.52</td>\n",
       "      <td>82.65</td>\n",
       "    </tr>\n",
       "    <tr>\n",
       "      <th>4</th>\n",
       "      <td>4</td>\n",
       "      <td>5</td>\n",
       "      <td>Tetris</td>\n",
       "      <td>GB</td>\n",
       "      <td>1989.0</td>\n",
       "      <td>Puzzle</td>\n",
       "      <td>Nintendo</td>\n",
       "      <td>23.20</td>\n",
       "      <td>2.26</td>\n",
       "      <td>4.22</td>\n",
       "      <td>0.58</td>\n",
       "      <td>30.26</td>\n",
       "      <td>88.00</td>\n",
       "    </tr>\n",
       "  </tbody>\n",
       "</table>\n",
       "</div>"
      ],
      "text/plain": [
       "   index  Rank          GameTitle Platform    Year     Genre Publisher  \\\n",
       "0      0     1         Wii Sports      Wii  2006.0    Sports  Nintendo   \n",
       "1      1     2  Super Mario Bros.      NES  1985.0  Platform  Nintendo   \n",
       "2      2     3     Mario Kart Wii      Wii  2008.0    Racing  Nintendo   \n",
       "3      3     4  Wii Sports Resort      Wii  2009.0    Sports  Nintendo   \n",
       "4      4     5             Tetris       GB  1989.0    Puzzle  Nintendo   \n",
       "\n",
       "   NorthAmerica  Europe  Japan  RestofWorld  Global  Review  \n",
       "0         40.43   28.39   3.77         8.54   81.12   76.28  \n",
       "1         29.08    3.58   6.81         0.77   40.24   91.00  \n",
       "2         14.50   12.22   3.63         3.21   33.55   82.07  \n",
       "3         14.82   10.51   3.18         3.01   31.52   82.65  \n",
       "4         23.20    2.26   4.22         0.58   30.26   88.00  "
      ]
     },
     "execution_count": 6,
     "metadata": {},
     "output_type": "execute_result"
    }
   ],
   "source": [
    "games_dataset.columns = games_dataset.columns.str.replace(' ', '')\n",
    "# Getting the columns strings or names, then using python's in-built replace() function!\n",
    "# Replace(the value that want to replace, the new value that we're going to have)!\n",
    "\n",
    "games_dataset.head()"
   ]
  },
  {
   "cell_type": "code",
   "execution_count": 7,
   "metadata": {},
   "outputs": [
    {
     "data": {
      "text/html": [
       "<div>\n",
       "<style scoped>\n",
       "    .dataframe tbody tr th:only-of-type {\n",
       "        vertical-align: middle;\n",
       "    }\n",
       "\n",
       "    .dataframe tbody tr th {\n",
       "        vertical-align: top;\n",
       "    }\n",
       "\n",
       "    .dataframe thead th {\n",
       "        text-align: right;\n",
       "    }\n",
       "</style>\n",
       "<table border=\"1\" class=\"dataframe\">\n",
       "  <thead>\n",
       "    <tr style=\"text-align: right;\">\n",
       "      <th></th>\n",
       "      <th>index</th>\n",
       "      <th>Rank</th>\n",
       "      <th>Year</th>\n",
       "      <th>NorthAmerica</th>\n",
       "      <th>Europe</th>\n",
       "      <th>Japan</th>\n",
       "      <th>RestofWorld</th>\n",
       "      <th>Global</th>\n",
       "      <th>Review</th>\n",
       "    </tr>\n",
       "  </thead>\n",
       "  <tbody>\n",
       "    <tr>\n",
       "      <th>count</th>\n",
       "      <td>1907.0000</td>\n",
       "      <td>1907.0000</td>\n",
       "      <td>1878.000000</td>\n",
       "      <td>1907.000000</td>\n",
       "      <td>1907.000000</td>\n",
       "      <td>1907.000000</td>\n",
       "      <td>1907.000000</td>\n",
       "      <td>1907.000000</td>\n",
       "      <td>1907.000000</td>\n",
       "    </tr>\n",
       "    <tr>\n",
       "      <th>mean</th>\n",
       "      <td>953.0000</td>\n",
       "      <td>954.0000</td>\n",
       "      <td>2003.766773</td>\n",
       "      <td>1.258789</td>\n",
       "      <td>0.706675</td>\n",
       "      <td>0.317493</td>\n",
       "      <td>0.206471</td>\n",
       "      <td>2.489240</td>\n",
       "      <td>79.038977</td>\n",
       "    </tr>\n",
       "    <tr>\n",
       "      <th>std</th>\n",
       "      <td>550.6478</td>\n",
       "      <td>550.6478</td>\n",
       "      <td>5.895369</td>\n",
       "      <td>1.956560</td>\n",
       "      <td>1.148904</td>\n",
       "      <td>0.724945</td>\n",
       "      <td>0.343093</td>\n",
       "      <td>3.563159</td>\n",
       "      <td>10.616899</td>\n",
       "    </tr>\n",
       "    <tr>\n",
       "      <th>min</th>\n",
       "      <td>0.0000</td>\n",
       "      <td>1.0000</td>\n",
       "      <td>1983.000000</td>\n",
       "      <td>0.000000</td>\n",
       "      <td>0.000000</td>\n",
       "      <td>0.000000</td>\n",
       "      <td>0.000000</td>\n",
       "      <td>0.830000</td>\n",
       "      <td>30.500000</td>\n",
       "    </tr>\n",
       "    <tr>\n",
       "      <th>25%</th>\n",
       "      <td>476.5000</td>\n",
       "      <td>477.5000</td>\n",
       "      <td>2000.000000</td>\n",
       "      <td>0.510000</td>\n",
       "      <td>0.230000</td>\n",
       "      <td>0.000000</td>\n",
       "      <td>0.060000</td>\n",
       "      <td>1.110000</td>\n",
       "      <td>74.000000</td>\n",
       "    </tr>\n",
       "    <tr>\n",
       "      <th>50%</th>\n",
       "      <td>953.0000</td>\n",
       "      <td>954.0000</td>\n",
       "      <td>2005.000000</td>\n",
       "      <td>0.810000</td>\n",
       "      <td>0.440000</td>\n",
       "      <td>0.020000</td>\n",
       "      <td>0.130000</td>\n",
       "      <td>1.530000</td>\n",
       "      <td>81.000000</td>\n",
       "    </tr>\n",
       "    <tr>\n",
       "      <th>75%</th>\n",
       "      <td>1429.5000</td>\n",
       "      <td>1430.5000</td>\n",
       "      <td>2008.000000</td>\n",
       "      <td>1.375000</td>\n",
       "      <td>0.810000</td>\n",
       "      <td>0.300000</td>\n",
       "      <td>0.220000</td>\n",
       "      <td>2.540000</td>\n",
       "      <td>86.230000</td>\n",
       "    </tr>\n",
       "    <tr>\n",
       "      <th>max</th>\n",
       "      <td>1906.0000</td>\n",
       "      <td>1907.0000</td>\n",
       "      <td>2012.000000</td>\n",
       "      <td>40.430000</td>\n",
       "      <td>28.390000</td>\n",
       "      <td>7.200000</td>\n",
       "      <td>8.540000</td>\n",
       "      <td>81.120000</td>\n",
       "      <td>97.000000</td>\n",
       "    </tr>\n",
       "  </tbody>\n",
       "</table>\n",
       "</div>"
      ],
      "text/plain": [
       "           index       Rank         Year  NorthAmerica       Europe  \\\n",
       "count  1907.0000  1907.0000  1878.000000   1907.000000  1907.000000   \n",
       "mean    953.0000   954.0000  2003.766773      1.258789     0.706675   \n",
       "std     550.6478   550.6478     5.895369      1.956560     1.148904   \n",
       "min       0.0000     1.0000  1983.000000      0.000000     0.000000   \n",
       "25%     476.5000   477.5000  2000.000000      0.510000     0.230000   \n",
       "50%     953.0000   954.0000  2005.000000      0.810000     0.440000   \n",
       "75%    1429.5000  1430.5000  2008.000000      1.375000     0.810000   \n",
       "max    1906.0000  1907.0000  2012.000000     40.430000    28.390000   \n",
       "\n",
       "             Japan  RestofWorld       Global       Review  \n",
       "count  1907.000000  1907.000000  1907.000000  1907.000000  \n",
       "mean      0.317493     0.206471     2.489240    79.038977  \n",
       "std       0.724945     0.343093     3.563159    10.616899  \n",
       "min       0.000000     0.000000     0.830000    30.500000  \n",
       "25%       0.000000     0.060000     1.110000    74.000000  \n",
       "50%       0.020000     0.130000     1.530000    81.000000  \n",
       "75%       0.300000     0.220000     2.540000    86.230000  \n",
       "max       7.200000     8.540000    81.120000    97.000000  "
      ]
     },
     "execution_count": 7,
     "metadata": {},
     "output_type": "execute_result"
    }
   ],
   "source": [
    "# Basic statistics measures of the dataset!\n",
    "games_dataset.describe()"
   ]
  },
  {
   "cell_type": "code",
   "execution_count": 12,
   "metadata": {},
   "outputs": [
    {
     "name": "stdout",
     "output_type": "stream",
     "text": [
      "Number of features in the dataset is 13 and the number of observations/rows in the dataset is 1907\n"
     ]
    }
   ],
   "source": [
    "print(f\"Number of features in the dataset is {games_dataset.shape[1]} and the number of observations/rows in the dataset is {games_dataset.shape[0]}\")"
   ]
  },
  {
   "cell_type": "markdown",
   "metadata": {},
   "source": [
    "### Dealing with missing values"
   ]
  },
  {
   "cell_type": "code",
   "execution_count": 13,
   "metadata": {},
   "outputs": [
    {
     "data": {
      "text/plain": [
       "index            0\n",
       "Rank             0\n",
       "GameTitle        0\n",
       "Platform         0\n",
       "Year            29\n",
       "Genre            0\n",
       "Publisher        2\n",
       "NorthAmerica     0\n",
       "Europe           0\n",
       "Japan            0\n",
       "RestofWorld      0\n",
       "Global           0\n",
       "Review           0\n",
       "dtype: int64"
      ]
     },
     "execution_count": 13,
     "metadata": {},
     "output_type": "execute_result"
    }
   ],
   "source": [
    "games_dataset.isnull().sum()"
   ]
  },
  {
   "cell_type": "markdown",
   "metadata": {},
   "source": [
    "* The features Year and Publisher contain missing values!  \n",
    "* The feature *Year* has 29 missing values, so instead of dropping the observations, We're handling the missing values by imputations which means we are filling the missing values!  \n",
    "* The feature *Publisher* has 2 missing values. I chose to drop the observations here instead of filling them in!  \n",
    "    * The reasoning behind this is that it may not make sense to fill in the publisher name with the most common name or any other names!"
   ]
  },
  {
   "cell_type": "code",
   "execution_count": 15,
   "metadata": {},
   "outputs": [],
   "source": [
    "# Column 'Year' has 29 missing values!\n",
    "games_dataset['Year'] = games_dataset['Year'].fillna(games_dataset['Year'].mode()[0]) \n",
    "# mode() returns the most common values! Therefore we are filling the missing values in the column 'Year' with the most common value in this column!"
   ]
  },
  {
   "cell_type": "code",
   "execution_count": 16,
   "metadata": {},
   "outputs": [
    {
     "name": "stdout",
     "output_type": "stream",
     "text": [
      "Number of rows/observations before drop:  1907\n",
      "Number of rows/observations after drop:  1905\n"
     ]
    }
   ],
   "source": [
    "print(\"Number of rows/observations before drop: \", games_dataset.shape[0])\n",
    "\n",
    "# Using dropna() to drop observations that has missing values in the *Publisher* column!\n",
    "# Also setting the argument *inplace* equals to *True* to make the changes explicitly into the dataset itself and not creating a new dataset!\n",
    "games_dataset.dropna(subset=['Publisher'], inplace=True)\n",
    "\n",
    "print(\"Number of rows/observations after drop: \", games_dataset.shape[0])"
   ]
  },
  {
   "cell_type": "code",
   "execution_count": 17,
   "metadata": {},
   "outputs": [
    {
     "data": {
      "text/plain": [
       "index           0\n",
       "Rank            0\n",
       "GameTitle       0\n",
       "Platform        0\n",
       "Year            0\n",
       "Genre           0\n",
       "Publisher       0\n",
       "NorthAmerica    0\n",
       "Europe          0\n",
       "Japan           0\n",
       "RestofWorld     0\n",
       "Global          0\n",
       "Review          0\n",
       "dtype: int64"
      ]
     },
     "execution_count": 17,
     "metadata": {},
     "output_type": "execute_result"
    }
   ],
   "source": [
    "games_dataset.isnull().sum()"
   ]
  },
  {
   "cell_type": "markdown",
   "metadata": {},
   "source": [
    "## Analyzing the effects of genre and platform on a game's success"
   ]
  },
  {
   "cell_type": "markdown",
   "metadata": {},
   "source": [
    "#### **Question 1** What is the average global sales for each genre?"
   ]
  },
  {
   "cell_type": "code",
   "execution_count": 24,
   "metadata": {},
   "outputs": [
    {
     "data": {
      "text/plain": [
       "Genre\n",
       "Platform        3.166170\n",
       "Role-Playing    2.868208\n",
       "Shooter         2.704854\n",
       "Misc            2.680000\n",
       "Puzzle          2.469318\n",
       "Racing          2.429032\n",
       "Action          2.317345\n",
       "Sports          2.285505\n",
       "Simulation      2.229783\n",
       "Adventure       2.176818\n",
       "Fighting        1.968000\n",
       "Strategy        1.945000\n",
       "Name: Global, dtype: float64"
      ]
     },
     "execution_count": 24,
     "metadata": {},
     "output_type": "execute_result"
    }
   ],
   "source": [
    "games_by_genre = games_dataset.groupby('Genre') #Grouping games by genres\n",
    "average_globalSales_genres = games_by_genre['Global'].mean()\n",
    "average_globalSales_genres.sort_values(ascending=False)"
   ]
  },
  {
   "cell_type": "markdown",
   "metadata": {},
   "source": [
    "* The output shows the *Platform*, *Role-Playing* and *Shooter* genres are top 3 genres of games in terms of **average global sales**.    \n",
    "* On the other hand 'Adventure*, *Fighting* and *Strategy* games have the lowest average global sales!  \n",
    "***"
   ]
  },
  {
   "cell_type": "markdown",
   "metadata": {},
   "source": [
    "#### **Question 2** What is the average global sales for each platform?"
   ]
  },
  {
   "cell_type": "code",
   "execution_count": 30,
   "metadata": {},
   "outputs": [
    {
     "data": {
      "image/png": "[encoded data removed]",
      "text/plain": [
       "<Figure size 1000x600 with 1 Axes>"
      ]
     },
     "metadata": {},
     "output_type": "display_data"
    }
   ],
   "source": [
    "games_by_platfom = games_dataset.groupby('Platform') # Grouping games based on their platforms!\n",
    "average_globalSales_platforms = games_by_platfom['Global'].mean() # Taking the mean value of each group!\n",
    "average_globalSales_platforms.sort_values(ascending=False) # Sorting the mean value of each group in descending order!\n",
    "# Visualizing the average_gloablSales_platform with barplot!\n",
    "plt.figure(figsize=(10, 6))\n",
    "average_globalSales_platforms.plot(kind='bar', color=\"orange\") #bar plot\n",
    "plt.title('Average Global Sales By Platform!')\n",
    "plt.xlabel('Platform')\n",
    "plt.ylabel('Average Global Sales')\n",
    "plt.show()"
   ]
  }
 ],
 "metadata": {
  "kernelspec": {
   "display_name": "Python 3",
   "language": "python",
   "name": "python3"
  },
  "language_info": {
   "codemirror_mode": {
    "name": "ipython",
    "version": 3
   },
   "file_extension": ".py",
   "mimetype": "text/x-python",
   "name": "python",
   "nbconvert_exporter": "python",
   "pygments_lexer": "ipython3",
   "version": "3.12.2"
  }
 },
 "nbformat": 4,
 "nbformat_minor": 2
}
